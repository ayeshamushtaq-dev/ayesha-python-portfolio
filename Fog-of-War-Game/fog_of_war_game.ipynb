{
 "cells": [
  {
   "cell_type": "code",
   "execution_count": 3,
   "id": "aeefe93a-ac9d-4795-b70f-5f543b8eb739",
   "metadata": {},
   "outputs": [
    {
     "name": "stdout",
     "output_type": "stream",
     "text": [
      "🧍⬜░░░░░\n",
      "⛔🧟░░░░░\n",
      "░░░░░░░\n",
      "░░░░░░░\n",
      "░░░░░░░\n",
      "░░░░░░░\n",
      "░░░░░░░\n",
      "\n",
      "Score: 0\n"
     ]
    },
    {
     "name": "stdin",
     "output_type": "stream",
     "text": [
      "Move (up/left/down/right) or type 'b' to auto-solve using BFS:  right\n"
     ]
    },
    {
     "name": "stdout",
     "output_type": "stream",
     "text": [
      "⬜🧍⬜░░░░\n",
      "⛔🧟⬜░░░░\n",
      "░░░░░░░\n",
      "░░░░░░░\n",
      "░░░░░░░\n",
      "░░░░░░░\n",
      "░░░░░░░\n",
      "\n",
      "Score: 10\n"
     ]
    },
    {
     "name": "stdin",
     "output_type": "stream",
     "text": [
      "Move (up/left/down/right) or type 'b' to auto-solve using BFS:  right\n"
     ]
    },
    {
     "name": "stdout",
     "output_type": "stream",
     "text": [
      "⬜⬜🧍⬜░░░\n",
      "⛔🧟⬜⬜░░░\n",
      "░░░░░░░\n",
      "░░░░░░░\n",
      "░░░░░░░\n",
      "░░░░░░░\n",
      "░░░░░░░\n",
      "\n",
      "Score: 20\n"
     ]
    },
    {
     "name": "stdin",
     "output_type": "stream",
     "text": [
      "Move (up/left/down/right) or type 'b' to auto-solve using BFS:  down\n"
     ]
    },
    {
     "name": "stdout",
     "output_type": "stream",
     "text": [
      "⬜⬜⬜⬜░░░\n",
      "⛔🧟🧍⬜░░░\n",
      "░⬜⛔⬜░░░\n",
      "░░░░░░░\n",
      "░░░░░░░\n",
      "░░░░░░░\n",
      "░░░░░░░\n",
      "\n",
      "Score: 30\n"
     ]
    },
    {
     "name": "stdin",
     "output_type": "stream",
     "text": [
      "Move (up/left/down/right) or type 'b' to auto-solve using BFS:  right\n"
     ]
    },
    {
     "name": "stdout",
     "output_type": "stream",
     "text": [
      "⬜⬜⬜⬜⛔░░\n",
      "⛔🧟⬜🧍⛔░░\n",
      "░⬜⛔⬜⬜░░\n",
      "░░░░░░░\n",
      "░░░░░░░\n",
      "░░░░░░░\n",
      "░░░░░░░\n",
      "\n",
      "Score: 40\n"
     ]
    },
    {
     "name": "stdin",
     "output_type": "stream",
     "text": [
      "Move (up/left/down/right) or type 'b' to auto-solve using BFS:  down\n"
     ]
    },
    {
     "name": "stdout",
     "output_type": "stream",
     "text": [
      "⬜⬜⬜⬜⛔░░\n",
      "⛔🧟⬜⬜⛔░░\n",
      "░⬜⛔🧍⬜░░\n",
      "░░⬜⬜⬜░░\n",
      "░░░░░░░\n",
      "░░░░░░░\n",
      "░░░░░░░\n",
      "\n",
      "Score: 50\n"
     ]
    },
    {
     "name": "stdin",
     "output_type": "stream",
     "text": [
      "Move (up/left/down/right) or type 'b' to auto-solve using BFS:  down\n"
     ]
    },
    {
     "name": "stdout",
     "output_type": "stream",
     "text": [
      "⬜⬜⬜⬜⛔░░\n",
      "⛔🧟⬜⬜⛔░░\n",
      "░⬜⛔⬜⬜░░\n",
      "░░⬜🧍⬜░░\n",
      "░░⛔⬜⬜░░\n",
      "░░░░░░░\n",
      "░░░░░░░\n",
      "\n",
      "Score: 60\n"
     ]
    },
    {
     "name": "stdin",
     "output_type": "stream",
     "text": [
      "Move (up/left/down/right) or type 'b' to auto-solve using BFS:  down\n"
     ]
    },
    {
     "name": "stdout",
     "output_type": "stream",
     "text": [
      "⬜⬜⬜⬜⛔░░\n",
      "⛔🧟⬜⬜⛔░░\n",
      "░⬜⛔⬜⬜░░\n",
      "░░⬜⬜⬜░░\n",
      "░░⛔🧍⬜░░\n",
      "░░⬜⬜⛔░░\n",
      "░░░░░░░\n",
      "\n",
      "Score: 70\n"
     ]
    },
    {
     "name": "stdin",
     "output_type": "stream",
     "text": [
      "Move (up/left/down/right) or type 'b' to auto-solve using BFS:  down\n"
     ]
    },
    {
     "name": "stdout",
     "output_type": "stream",
     "text": [
      "⬜⬜⬜⬜⛔░░\n",
      "⛔🧟⬜⬜⛔░░\n",
      "░⬜⛔⬜⬜░░\n",
      "░░⬜⬜⬜░░\n",
      "░░⛔⬜⬜░░\n",
      "░░⬜🧍⛔░░\n",
      "░░⬜🎯⬜░░\n",
      "\n",
      "Score: 80\n"
     ]
    },
    {
     "name": "stdin",
     "output_type": "stream",
     "text": [
      "Move (up/left/down/right) or type 'b' to auto-solve using BFS:  down\n"
     ]
    },
    {
     "name": "stdout",
     "output_type": "stream",
     "text": [
      "🎉 You reached the GOAL!\n",
      "🧮 Total Steps: 9\n",
      "📊 Final Score: 90\n",
      "😅 You reached the goal but explored too much.\n"
     ]
    }
   ],
   "source": [
    "import random\n",
    "from collections import deque\n",
    "\n",
    "ROWS, COLS = 7, 7\n",
    "PLAYER = '🧍'\n",
    "GOAL = '🎯'\n",
    "ENEMY = '🧟'\n",
    "FOG = '░'\n",
    "EMPTY = '⬜'\n",
    "OBSTACLE = '⛔'\n",
    "\n",
    "player_pos = [0, 0]\n",
    "score = 0\n",
    "\n",
    "# Random goal\n",
    "while True:\n",
    "    goal_pos = [random.randint(0, ROWS-1), random.randint(0, COLS-1)]\n",
    "    if goal_pos != player_pos:\n",
    "        break\n",
    "\n",
    "# Random enemy\n",
    "while True:\n",
    "    enemy_pos = [random.randint(0, ROWS-1), random.randint(0, COLS-1)]\n",
    "    if enemy_pos != player_pos and enemy_pos != goal_pos:\n",
    "        break\n",
    "\n",
    "# Obstacles\n",
    "obstacles = []\n",
    "while len(obstacles) < 8:\n",
    "    pos = [random.randint(0, ROWS-1), random.randint(0, COLS-1)]\n",
    "    if pos not in obstacles and pos != player_pos and pos != goal_pos and pos != enemy_pos:\n",
    "        obstacles.append(pos)\n",
    "\n",
    "# Visited + Fog\n",
    "visited = set()\n",
    "fog_map = [[False for _ in range(COLS)] for _ in range(ROWS)]\n",
    "\n",
    "def update_fog():\n",
    "    x, y = player_pos\n",
    "    for dx in [-1, 0, 1]:\n",
    "        for dy in [-1, 0, 1]:\n",
    "            nx, ny = x + dx, y + dy\n",
    "            if 0 <= nx < ROWS and 0 <= ny < COLS:\n",
    "                fog_map[nx][ny] = True\n",
    "\n",
    "def print_map():\n",
    "    for i in range(ROWS):\n",
    "        row = \"\"\n",
    "        for j in range(COLS):\n",
    "            pos = [i, j]\n",
    "            if pos == player_pos:\n",
    "                row += PLAYER\n",
    "            elif not fog_map[i][j]:\n",
    "                row += FOG\n",
    "            elif pos == goal_pos:\n",
    "                row += GOAL\n",
    "            elif pos == enemy_pos:\n",
    "                row += ENEMY\n",
    "            elif pos in obstacles:\n",
    "                row += OBSTACLE\n",
    "            else:\n",
    "                row += EMPTY\n",
    "        print(row)\n",
    "    print()\n",
    "\n",
    "def move_player(direction):\n",
    "    global score\n",
    "    dx, dy = 0, 0\n",
    "    if direction == 'up': dx = -1\n",
    "    elif direction == 'down': dx = 1\n",
    "    elif direction == 'left': dy = -1\n",
    "    elif direction == 'right': dy = 1\n",
    "\n",
    "    new_x = player_pos[0] + dx\n",
    "    new_y = player_pos[1] + dy\n",
    "\n",
    "    if 0 <= new_x < ROWS and 0 <= new_y < COLS and [new_x, new_y] not in obstacles:\n",
    "        player_pos[0], player_pos[1] = new_x, new_y\n",
    "        pos_tuple = (new_x, new_y)\n",
    "        if pos_tuple not in visited:\n",
    "            score += 10\n",
    "            visited.add(pos_tuple)\n",
    "\n",
    "def check_game_end():\n",
    "    if player_pos == goal_pos:\n",
    "        print(\"🎉 You reached the GOAL!\")\n",
    "        print(f\"🧮 Total Steps: {len(visited)}\")\n",
    "        print(f\"📊 Final Score: {score}\")\n",
    "        if score <= 80:\n",
    "            print(\"🏆 Great! You won with an optimal path (Low Score)!\")\n",
    "        else:\n",
    "            print(\"😅 You reached the goal but explored too much.\")\n",
    "        return True\n",
    "    elif player_pos == enemy_pos:\n",
    "        print(\"💀 You stepped on an ENEMY! Game Over.\")\n",
    "        return True\n",
    "    return False\n",
    "\n",
    "\n",
    "def bfs_path(start, goal):\n",
    "    queue = deque([[start]])\n",
    "    visited_bfs = set()\n",
    "\n",
    "    while queue:\n",
    "        path = queue.popleft()\n",
    "        x, y = path[-1]\n",
    "        if [x, y] == goal:\n",
    "            return path\n",
    "        for dx, dy in [(-1,0), (1,0), (0,-1), (0,1)]:\n",
    "            nx, ny = x + dx, y + dy\n",
    "            next_pos = [nx, ny]\n",
    "            if 0 <= nx < ROWS and 0 <= ny < COLS and next_pos not in obstacles and tuple(next_pos) not in visited_bfs:\n",
    "                visited_bfs.add(tuple(next_pos))\n",
    "                queue.append(path + [next_pos])\n",
    "    return []\n",
    "\n",
    "# --- Game Loop ---\n",
    "for _ in range(100):\n",
    "    update_fog()\n",
    "    print_map()\n",
    "    print(f\"Score: {score}\")\n",
    "    move = input(\"Move (up/left/down/right) or type 'b' to auto-solve using BFS: \").strip().lower()\n",
    "\n",
    "    if move == 'b':\n",
    "        path = bfs_path(player_pos, goal_pos)\n",
    "        if path:\n",
    "            for step in path[1:]:\n",
    "                player_pos[:] = step\n",
    "                update_fog()\n",
    "                print_map()\n",
    "                print(f\"Score: {score}\")\n",
    "                if check_game_end():\n",
    "                    break\n",
    "        else:\n",
    "            print(\"No path found using BFS.\")\n",
    "        break\n",
    "    elif move in ['up', 'down', 'left', 'right']:\n",
    "        move_player(move)\n",
    "        if check_game_end():\n",
    "            break\n",
    "    else:\n",
    "        print(\"Invalid input. Use 'up', 'down', 'left', 'right', or 'b'.\")\n"
   ]
  },
  {
   "cell_type": "code",
   "execution_count": null,
   "id": "71f8d106-75c2-4d43-8cc5-c45d0e002b9e",
   "metadata": {},
   "outputs": [],
   "source": []
  }
 ],
 "metadata": {
  "kernelspec": {
   "display_name": "Python 3 (ipykernel)",
   "language": "python",
   "name": "python3"
  },
  "language_info": {
   "codemirror_mode": {
    "name": "ipython",
    "version": 3
   },
   "file_extension": ".py",
   "mimetype": "text/x-python",
   "name": "python",
   "nbconvert_exporter": "python",
   "pygments_lexer": "ipython3",
   "version": "3.12.4"
  }
 },
 "nbformat": 4,
 "nbformat_minor": 5
}
